{
 "cells": [
  {
   "cell_type": "markdown",
   "metadata": {},
   "source": [
    "## 20190318\n",
    "\n",
    "【第一个可用的程序】\n",
    "\n",
    "测试集上表现OK，test loss 0.2多\n",
    "\n",
    "**主要修改：**\n",
    "1. 将test输出结果与编号对应上\n",
    "2. 改为one-hot编码\n",
    "\n",
    "多次调参修改模型后，最好的是参数是：  \n",
    "conv2D 10层，全连接2层。数据增强：旋转30；缩放0.2；左右上下平移0.2；水平垂直翻转  \n",
    "test loss: 0.23535  \n",
    "\n",
    "![](https://ww1.sinaimg.cn/large/007i4MEmgy1g17u2fi4b1j309b068weq.jpg)"
   ]
  },
  {
   "cell_type": "markdown",
   "metadata": {
    "_cell_guid": "1e6df50d-d318-7398-304e-b0ae37f60e17"
   },
   "source": [
    "## Part 1 - Preprocessing ##\n",
    "\n",
    "We've got the data, but we can't exactly just stuff raw images right through our convolutional neural network. First, we need all of the images to be the same size, and then we also will probably want to just grayscale them. Also, the labels of \"cat\" and \"dog\" are not useful, we want them to be one-hot arrays. \n"
   ]
  },
  {
   "cell_type": "code",
   "execution_count": 1,
   "metadata": {
    "_cell_guid": "d5afc7e8-ef5a-c672-4f51-c469ed97be86"
   },
   "outputs": [
    {
     "name": "stderr",
     "output_type": "stream",
     "text": [
      "Using TensorFlow backend.\n"
     ]
    }
   ],
   "source": [
    "import cv2                 # working with, mainly resizing, images\n",
    "import numpy as np         # dealing with arrays\n",
    "import os                  # dealing with directories\n",
    "from random import shuffle # mixing up or currently ordered data that might lead our network astray in training.\n",
    "from tqdm import tqdm      # a nice pretty percentage bar for tasks. Thanks to viewer Daniel Bühler for this suggestion\n",
    "import matplotlib.pyplot as plt\n",
    "from keras.preprocessing.image import ImageDataGenerator\n",
    "\n",
    "%matplotlib inline\n"
   ]
  },
  {
   "cell_type": "code",
   "execution_count": 2,
   "metadata": {},
   "outputs": [],
   "source": [
    "TRAIN_DIR = './data/train'\n",
    "TEST_DIR = './data/test'\n",
    "IMG_SIZE = 128\n",
    "LR = 1e-3\n",
    "\n",
    "MODEL_NAME = 'dogsvscats-{}-{}.model'.format(LR, '2conv-basic') # just so we remember which saved model is which, sizes must match"
   ]
  },
  {
   "cell_type": "markdown",
   "metadata": {
    "_cell_guid": "da647f1a-7011-1555-6013-3e0e0126b246"
   },
   "source": [
    "label -> one-hot"
   ]
  },
  {
   "cell_type": "code",
   "execution_count": 3,
   "metadata": {
    "_cell_guid": "d1c5fbd5-94a3-1c60-427d-883601dbd461"
   },
   "outputs": [],
   "source": [
    "def label_img(img):\n",
    "    word_label = img.split('.')[-3]\n",
    "    if word_label == 'cat': \n",
    "        return [1,0]\n",
    "    elif word_label == 'dog': \n",
    "        return [0,1]"
   ]
  },
  {
   "cell_type": "markdown",
   "metadata": {
    "_cell_guid": "0e1eafd3-99b2-7c7a-0164-31b3efa1e39a"
   },
   "source": [
    "Now, we can build another function to fully process the training images and their labels into arrays:"
   ]
  },
  {
   "cell_type": "code",
   "execution_count": 4,
   "metadata": {
    "_cell_guid": "246e8504-fc0a-00ac-34d2-ea6b13af1732"
   },
   "outputs": [],
   "source": [
    "def create_train_data():\n",
    "    training_data = []\n",
    "    for img in tqdm(os.listdir(TRAIN_DIR)):\n",
    "        label = label_img(img)\n",
    "        path = os.path.join(TRAIN_DIR,img)\n",
    "        img = cv2.imread(path,cv2.IMREAD_GRAYSCALE)\n",
    "        img = cv2.resize(img, (IMG_SIZE,IMG_SIZE))\n",
    "        training_data.append([np.array(img), label])\n",
    "    shuffle(training_data)\n",
    "    np.save('train_data.npy', training_data)\n",
    "    return training_data"
   ]
  },
  {
   "cell_type": "code",
   "execution_count": 5,
   "metadata": {
    "_cell_guid": "277478aa-2ffa-eb36-f0ec-2fe04743124a"
   },
   "outputs": [],
   "source": [
    "def process_test_data():\n",
    "    testing_data = []\n",
    "    for img in tqdm(os.listdir(TEST_DIR)):\n",
    "        path = os.path.join(TEST_DIR,img)\n",
    "        img_num = img.split('.')[0]\n",
    "        img = cv2.imread(path,cv2.IMREAD_GRAYSCALE)\n",
    "        img = cv2.resize(img, (IMG_SIZE,IMG_SIZE))\n",
    "        testing_data.append([np.array(img), img_num])\n",
    "        \n",
    "    #shuffle(testing_data)\n",
    "    np.save('test_data.npy', testing_data)\n",
    "    return testing_data"
   ]
  },
  {
   "cell_type": "markdown",
   "metadata": {
    "_cell_guid": "5e3beebd-676c-3884-75df-77d42b255ad0"
   },
   "source": [
    "Now, we can run the training:"
   ]
  },
  {
   "cell_type": "code",
   "execution_count": 6,
   "metadata": {
    "_cell_guid": "62b30187-0d69-13e9-5829-4b05962e5e79"
   },
   "outputs": [
    {
     "name": "stderr",
     "output_type": "stream",
     "text": [
      "100%|██████████| 25000/25000 [00:25<00:00, 978.77it/s] \n"
     ]
    }
   ],
   "source": [
    "train_data = create_train_data()\n",
    "# If you have already created the dataset:\n",
    "#train_data = np.load('train_data.npy')"
   ]
  },
  {
   "cell_type": "code",
   "execution_count": 7,
   "metadata": {},
   "outputs": [],
   "source": [
    "from sklearn.model_selection import train_test_split\n",
    "\n",
    "train, val = train_test_split(train_data, test_size = 0.25)"
   ]
  },
  {
   "cell_type": "code",
   "execution_count": 8,
   "metadata": {},
   "outputs": [],
   "source": [
    "X_train = np.array([i[0] for i in train]).reshape(-1,IMG_SIZE,IMG_SIZE,1)\n",
    "Y_train = np.array([i[1] for i in train])\n",
    "\n",
    "X_val = np.array([i[0] for i in val]).reshape(-1,IMG_SIZE,IMG_SIZE,1)\n",
    "Y_val = np.array([i[1] for i in val])"
   ]
  },
  {
   "cell_type": "markdown",
   "metadata": {
    "_cell_guid": "53cacc97-6c0e-e5ca-dc63-5eae37ca03d5"
   },
   "source": [
    "## Convolutional Neural Network ##\n",
    "\n",
    "Next, we're ready to define our neural network:"
   ]
  },
  {
   "cell_type": "code",
   "execution_count": 1,
   "metadata": {},
   "outputs": [
    {
     "name": "stderr",
     "output_type": "stream",
     "text": [
      "Using TensorFlow backend.\n"
     ]
    }
   ],
   "source": [
    "from keras.models import Sequential\n",
    "from keras.layers import Input, Dropout, Flatten, Conv2D, MaxPooling2D, Dense, Activation\n",
    "from keras.optimizers import RMSprop\n",
    "from keras.callbacks import ModelCheckpoint, Callback, EarlyStopping, ReduceLROnPlateau\n",
    "from keras.utils import np_utils"
   ]
  },
  {
   "cell_type": "code",
   "execution_count": 2,
   "metadata": {},
   "outputs": [],
   "source": [
    "from keras import backend\n",
    "backend.set_image_dim_ordering('tf')  # th通道最前，tf通道最后"
   ]
  },
  {
   "cell_type": "code",
   "execution_count": 8,
   "metadata": {},
   "outputs": [],
   "source": [
    "optimizer = RMSprop(lr=1e-4)\n",
    "objective = 'categorical_crossentropy'\n",
    "IMG_SIZE = 128\n",
    "\n",
    "def catdog():\n",
    "    \n",
    "    model = Sequential()\n",
    "\n",
    "    model.add(Conv2D(64, (3, 3), padding='same', input_shape=(IMG_SIZE, IMG_SIZE, 1), activation='relu'))\n",
    "    model.add(Conv2D(64, (3, 3), padding='same', activation='relu'))\n",
    "    model.add(MaxPooling2D(pool_size=(2, 2)))\n",
    "\n",
    "    model.add(Conv2D(128, (3, 3), padding='same', activation='relu'))\n",
    "    model.add(Conv2D(128, (3, 3), padding='same', activation='relu'))\n",
    "    model.add(MaxPooling2D(pool_size=(2, 2)))\n",
    "    \n",
    "    model.add(Conv2D(256, (3, 3), padding='same', activation='relu'))\n",
    "    model.add(Conv2D(256, (3, 3), padding='same', activation='relu'))\n",
    "    model.add(Conv2D(256, (3, 3), padding='same', activation='relu'))\n",
    "    model.add(MaxPooling2D(pool_size=(2, 2)))\n",
    "    \n",
    "    model.add(Conv2D(512, (3, 3), padding='same', activation='relu'))\n",
    "    model.add(Conv2D(512, (3, 3), padding='same', activation='relu'))\n",
    "    model.add(Conv2D(512, (3, 3), padding='same', activation='relu'))\n",
    "    model.add(MaxPooling2D(pool_size=(2, 2)))\n",
    "    \n",
    "    model.add(Conv2D(512, (3, 3), padding='same', activation='relu'))\n",
    "    model.add(Conv2D(512, (3, 3), padding='same', activation='relu'))\n",
    "    model.add(Conv2D(512, (3, 3), padding='same', activation='relu'))\n",
    "    model.add(MaxPooling2D(pool_size=(2, 2)))\n",
    "    \n",
    "    '''\n",
    "    model.add(Conv2D(512, (3, 3), padding='same', activation='relu'))\n",
    "    model.add(Conv2D(512, (3, 3), padding='same', activation='relu'))\n",
    "    model.add(Conv2D(512, (3, 3), padding='same', activation='relu'))\n",
    "    model.add(MaxPooling2D(pool_size=(2, 2)))\n",
    "    '''    \n",
    "\n",
    "    model.add(Flatten())\n",
    "    model.add(Dense(256, activation='relu'))\n",
    "    model.add(Dropout(0.5))\n",
    "\n",
    "    model.add(Dense(2, activation='softmax'))\n",
    "\n",
    "    model.compile(loss=objective, optimizer=optimizer, metrics=['accuracy'])\n",
    "    return model\n",
    "\n",
    "\n",
    "model = catdog()"
   ]
  },
  {
   "cell_type": "code",
   "execution_count": 6,
   "metadata": {},
   "outputs": [],
   "source": [
    "from keras.utils import plot_model\n",
    "plot_model(model, to_file='model.png')"
   ]
  },
  {
   "cell_type": "code",
   "execution_count": 9,
   "metadata": {},
   "outputs": [
    {
     "name": "stdout",
     "output_type": "stream",
     "text": [
      "_________________________________________________________________\n",
      "Layer (type)                 Output Shape              Param #   \n",
      "=================================================================\n",
      "conv2d_24 (Conv2D)           (None, 128, 128, 64)      640       \n",
      "_________________________________________________________________\n",
      "conv2d_25 (Conv2D)           (None, 128, 128, 64)      36928     \n",
      "_________________________________________________________________\n",
      "max_pooling2d_10 (MaxPooling (None, 64, 64, 64)        0         \n",
      "_________________________________________________________________\n",
      "conv2d_26 (Conv2D)           (None, 64, 64, 128)       73856     \n",
      "_________________________________________________________________\n",
      "conv2d_27 (Conv2D)           (None, 64, 64, 128)       147584    \n",
      "_________________________________________________________________\n",
      "max_pooling2d_11 (MaxPooling (None, 32, 32, 128)       0         \n",
      "_________________________________________________________________\n",
      "conv2d_28 (Conv2D)           (None, 32, 32, 256)       295168    \n",
      "_________________________________________________________________\n",
      "conv2d_29 (Conv2D)           (None, 32, 32, 256)       590080    \n",
      "_________________________________________________________________\n",
      "conv2d_30 (Conv2D)           (None, 32, 32, 256)       590080    \n",
      "_________________________________________________________________\n",
      "max_pooling2d_12 (MaxPooling (None, 16, 16, 256)       0         \n",
      "_________________________________________________________________\n",
      "conv2d_31 (Conv2D)           (None, 16, 16, 512)       1180160   \n",
      "_________________________________________________________________\n",
      "conv2d_32 (Conv2D)           (None, 16, 16, 512)       2359808   \n",
      "_________________________________________________________________\n",
      "conv2d_33 (Conv2D)           (None, 16, 16, 512)       2359808   \n",
      "_________________________________________________________________\n",
      "max_pooling2d_13 (MaxPooling (None, 8, 8, 512)         0         \n",
      "_________________________________________________________________\n",
      "conv2d_34 (Conv2D)           (None, 8, 8, 512)         2359808   \n",
      "_________________________________________________________________\n",
      "conv2d_35 (Conv2D)           (None, 8, 8, 512)         2359808   \n",
      "_________________________________________________________________\n",
      "conv2d_36 (Conv2D)           (None, 8, 8, 512)         2359808   \n",
      "_________________________________________________________________\n",
      "max_pooling2d_14 (MaxPooling (None, 4, 4, 512)         0         \n",
      "_________________________________________________________________\n",
      "flatten_3 (Flatten)          (None, 8192)              0         \n",
      "_________________________________________________________________\n",
      "dense_5 (Dense)              (None, 256)               2097408   \n",
      "_________________________________________________________________\n",
      "dropout_3 (Dropout)          (None, 256)               0         \n",
      "_________________________________________________________________\n",
      "dense_6 (Dense)              (None, 2)                 514       \n",
      "=================================================================\n",
      "Total params: 16,811,458\n",
      "Trainable params: 16,811,458\n",
      "Non-trainable params: 0\n",
      "_________________________________________________________________\n"
     ]
    }
   ],
   "source": [
    "model.summary()"
   ]
  },
  {
   "cell_type": "code",
   "execution_count": 13,
   "metadata": {},
   "outputs": [],
   "source": [
    "datagen = ImageDataGenerator(\n",
    "        featurewise_center=False,  # set input mean to 0 over the dataset\n",
    "        samplewise_center=False,  # set each sample mean to 0\n",
    "        featurewise_std_normalization=False,  # divide inputs by std of the dataset\n",
    "        samplewise_std_normalization=False,  # divide each input by its std\n",
    "        zca_whitening=False,  # apply ZCA whitening\n",
    "        rotation_range=40,  # randomly rotate images in the range (degrees, 0 to 180)\n",
    "        shear_range=0.3,    #错切变换，效果就是让所有点的x坐标(或者y坐标)保持不变，而对应的y坐标(或者x坐标)则按比例发生平移\n",
    "        zoom_range = 0.2, # Randomly zoom image \n",
    "        width_shift_range=0.2,  # randomly shift images horizontally (fraction of total width)\n",
    "        height_shift_range=0.2,  # randomly shift images vertically (fraction of total height)\n",
    "        horizontal_flip=True,  # randomly flip images\n",
    "        vertical_flip=True)  # randomly flip images\n",
    "\n",
    "\n",
    "#datagen = ImageDataGenerator()\n",
    "datagen.fit(X_train)"
   ]
  },
  {
   "cell_type": "code",
   "execution_count": 14,
   "metadata": {},
   "outputs": [
    {
     "name": "stdout",
     "output_type": "stream",
     "text": [
      "WARNING:tensorflow:From /home/dell/.local/lib/python3.5/site-packages/tensorflow/python/ops/math_ops.py:3066: to_int32 (from tensorflow.python.ops.math_ops) is deprecated and will be removed in a future version.\n",
      "Instructions for updating:\n",
      "Use tf.cast instead.\n",
      "Epoch 1/100\n",
      "292/292 [==============================] - 147s 503ms/step - loss: 0.7007 - acc: 0.5072 - val_loss: 0.6902 - val_acc: 0.5099\n",
      "\n",
      "Epoch 00001: val_loss improved from inf to 0.69025, saving model to ./weights/weights.best.hdf5\n",
      "Epoch 2/100\n",
      "292/292 [==============================] - 140s 480ms/step - loss: 0.7025 - acc: 0.5530 - val_loss: 0.6697 - val_acc: 0.5984\n",
      "\n",
      "Epoch 00002: val_loss improved from 0.69025 to 0.66969, saving model to ./weights/weights.best.hdf5\n",
      "Epoch 3/100\n",
      "292/292 [==============================] - 136s 467ms/step - loss: 0.6748 - acc: 0.5959 - val_loss: 0.6434 - val_acc: 0.6282\n",
      "\n",
      "Epoch 00003: val_loss improved from 0.66969 to 0.64336, saving model to ./weights/weights.best.hdf5\n",
      "Epoch 4/100\n",
      "292/292 [==============================] - 136s 466ms/step - loss: 0.6541 - acc: 0.6320 - val_loss: 0.6196 - val_acc: 0.6680\n",
      "\n",
      "Epoch 00004: val_loss improved from 0.64336 to 0.61957, saving model to ./weights/weights.best.hdf5\n",
      "Epoch 5/100\n",
      "292/292 [==============================] - 136s 466ms/step - loss: 0.6349 - acc: 0.6579 - val_loss: 0.6458 - val_acc: 0.6098\n",
      "\n",
      "Epoch 00005: val_loss did not improve from 0.61957\n",
      "Epoch 6/100\n",
      "292/292 [==============================] - 136s 466ms/step - loss: 0.6168 - acc: 0.6677 - val_loss: 0.5821 - val_acc: 0.7214\n",
      "\n",
      "Epoch 00006: val_loss improved from 0.61957 to 0.58213, saving model to ./weights/weights.best.hdf5\n",
      "Epoch 7/100\n",
      "292/292 [==============================] - 136s 466ms/step - loss: 0.6127 - acc: 0.6783 - val_loss: 0.5435 - val_acc: 0.7485\n",
      "\n",
      "Epoch 00007: val_loss improved from 0.58213 to 0.54353, saving model to ./weights/weights.best.hdf5\n",
      "Epoch 8/100\n",
      "292/292 [==============================] - 136s 466ms/step - loss: 0.5835 - acc: 0.6995 - val_loss: 0.5298 - val_acc: 0.7301\n",
      "\n",
      "Epoch 00008: val_loss improved from 0.54353 to 0.52977, saving model to ./weights/weights.best.hdf5\n",
      "Epoch 9/100\n",
      "292/292 [==============================] - 136s 466ms/step - loss: 0.5643 - acc: 0.7219 - val_loss: 0.4744 - val_acc: 0.7779\n",
      "\n",
      "Epoch 00009: val_loss improved from 0.52977 to 0.47443, saving model to ./weights/weights.best.hdf5\n",
      "Epoch 10/100\n",
      "292/292 [==============================] - 136s 466ms/step - loss: 0.5448 - acc: 0.7296 - val_loss: 0.6080 - val_acc: 0.7035\n",
      "\n",
      "Epoch 00010: val_loss did not improve from 0.47443\n",
      "Epoch 11/100\n",
      "292/292 [==============================] - 136s 466ms/step - loss: 0.5178 - acc: 0.7493 - val_loss: 0.4833 - val_acc: 0.7763\n",
      "\n",
      "Epoch 00011: val_loss did not improve from 0.47443\n",
      "Epoch 12/100\n",
      "292/292 [==============================] - 136s 466ms/step - loss: 0.5057 - acc: 0.7659 - val_loss: 0.4292 - val_acc: 0.8130\n",
      "\n",
      "Epoch 00012: val_loss improved from 0.47443 to 0.42916, saving model to ./weights/weights.best.hdf5\n",
      "Epoch 13/100\n",
      "292/292 [==============================] - 136s 465ms/step - loss: 0.4869 - acc: 0.7772 - val_loss: 0.4170 - val_acc: 0.8062\n",
      "\n",
      "Epoch 00013: val_loss improved from 0.42916 to 0.41705, saving model to ./weights/weights.best.hdf5\n",
      "Epoch 14/100\n",
      "292/292 [==============================] - 136s 466ms/step - loss: 0.4612 - acc: 0.7896 - val_loss: 0.3935 - val_acc: 0.8333\n",
      "\n",
      "Epoch 00014: val_loss improved from 0.41705 to 0.39354, saving model to ./weights/weights.best.hdf5\n",
      "Epoch 15/100\n",
      "292/292 [==============================] - 136s 466ms/step - loss: 0.4422 - acc: 0.7998 - val_loss: 0.4627 - val_acc: 0.7656\n",
      "\n",
      "Epoch 00015: val_loss did not improve from 0.39354\n",
      "Epoch 16/100\n",
      "292/292 [==============================] - 136s 466ms/step - loss: 0.4153 - acc: 0.8162 - val_loss: 0.3241 - val_acc: 0.8605\n",
      "\n",
      "Epoch 00016: val_loss improved from 0.39354 to 0.32414, saving model to ./weights/weights.best.hdf5\n",
      "Epoch 17/100\n",
      "292/292 [==============================] - 136s 465ms/step - loss: 0.3899 - acc: 0.8274 - val_loss: 0.3043 - val_acc: 0.8710\n",
      "\n",
      "Epoch 00017: val_loss improved from 0.32414 to 0.30426, saving model to ./weights/weights.best.hdf5\n",
      "Epoch 18/100\n",
      "292/292 [==============================] - 136s 466ms/step - loss: 0.3799 - acc: 0.8362 - val_loss: 0.3015 - val_acc: 0.8654\n",
      "\n",
      "Epoch 00018: val_loss improved from 0.30426 to 0.30149, saving model to ./weights/weights.best.hdf5\n",
      "Epoch 19/100\n",
      "292/292 [==============================] - 136s 465ms/step - loss: 0.3633 - acc: 0.8423 - val_loss: 0.2446 - val_acc: 0.8965\n",
      "\n",
      "Epoch 00019: val_loss improved from 0.30149 to 0.24457, saving model to ./weights/weights.best.hdf5\n",
      "Epoch 20/100\n",
      "292/292 [==============================] - 136s 465ms/step - loss: 0.3449 - acc: 0.8491 - val_loss: 0.2497 - val_acc: 0.8930\n",
      "\n",
      "Epoch 00020: val_loss did not improve from 0.24457\n",
      "Epoch 21/100\n",
      "292/292 [==============================] - 136s 466ms/step - loss: 0.3409 - acc: 0.8572 - val_loss: 0.3878 - val_acc: 0.7962\n",
      "\n",
      "Epoch 00021: val_loss did not improve from 0.24457\n",
      "Epoch 22/100\n",
      "292/292 [==============================] - 136s 466ms/step - loss: 0.3436 - acc: 0.8498 - val_loss: 0.2828 - val_acc: 0.8978\n",
      "\n",
      "Epoch 00022: val_loss did not improve from 0.24457\n",
      "Epoch 23/100\n",
      "292/292 [==============================] - 136s 466ms/step - loss: 0.3328 - acc: 0.8589 - val_loss: 0.2386 - val_acc: 0.9038\n",
      "\n",
      "Epoch 00023: val_loss improved from 0.24457 to 0.23859, saving model to ./weights/weights.best.hdf5\n",
      "Epoch 24/100\n",
      "292/292 [==============================] - 136s 466ms/step - loss: 0.3232 - acc: 0.8662 - val_loss: 0.2578 - val_acc: 0.8842\n",
      "\n",
      "Epoch 00024: val_loss did not improve from 0.23859\n",
      "Epoch 25/100\n",
      "292/292 [==============================] - 136s 465ms/step - loss: 0.3214 - acc: 0.8674 - val_loss: 0.4122 - val_acc: 0.7773\n",
      "\n",
      "Epoch 00025: val_loss did not improve from 0.23859\n",
      "Epoch 26/100\n",
      "292/292 [==============================] - 136s 466ms/step - loss: 0.3186 - acc: 0.8665 - val_loss: 0.2703 - val_acc: 0.8816\n",
      "\n",
      "Epoch 00026: val_loss did not improve from 0.23859\n",
      "Epoch 27/100\n",
      "292/292 [==============================] - 136s 466ms/step - loss: 0.3177 - acc: 0.8698 - val_loss: 0.3119 - val_acc: 0.8576\n",
      "\n",
      "Epoch 00027: ReduceLROnPlateau reducing learning rate to 4.999999873689376e-05.\n",
      "\n",
      "Epoch 00027: val_loss did not improve from 0.23859\n",
      "Epoch 28/100\n",
      "292/292 [==============================] - 136s 465ms/step - loss: 0.2375 - acc: 0.9045 - val_loss: 0.1892 - val_acc: 0.9302\n",
      "\n",
      "Epoch 00028: val_loss improved from 0.23859 to 0.18920, saving model to ./weights/weights.best.hdf5\n",
      "Epoch 29/100\n",
      "292/292 [==============================] - 136s 466ms/step - loss: 0.2344 - acc: 0.9057 - val_loss: 0.1849 - val_acc: 0.9306\n",
      "\n",
      "Epoch 00029: val_loss improved from 0.18920 to 0.18493, saving model to ./weights/weights.best.hdf5\n",
      "Epoch 30/100\n",
      "292/292 [==============================] - 136s 465ms/step - loss: 0.2358 - acc: 0.9055 - val_loss: 0.1826 - val_acc: 0.9322\n",
      "\n",
      "Epoch 00030: val_loss improved from 0.18493 to 0.18264, saving model to ./weights/weights.best.hdf5\n",
      "Epoch 31/100\n",
      "292/292 [==============================] - 136s 466ms/step - loss: 0.2398 - acc: 0.9086 - val_loss: 0.1970 - val_acc: 0.9322\n",
      "\n",
      "Epoch 00031: val_loss did not improve from 0.18264\n",
      "Epoch 32/100\n",
      "292/292 [==============================] - 136s 466ms/step - loss: 0.2360 - acc: 0.9067 - val_loss: 0.1596 - val_acc: 0.9322\n",
      "\n",
      "Epoch 00032: val_loss improved from 0.18264 to 0.15959, saving model to ./weights/weights.best.hdf5\n",
      "Epoch 33/100\n",
      "292/292 [==============================] - 136s 466ms/step - loss: 0.2412 - acc: 0.9037 - val_loss: 0.1611 - val_acc: 0.9344\n",
      "\n",
      "Epoch 00033: val_loss did not improve from 0.15959\n",
      "Epoch 34/100\n",
      "292/292 [==============================] - 136s 466ms/step - loss: 0.2530 - acc: 0.9064 - val_loss: 0.1719 - val_acc: 0.9408\n",
      "\n",
      "Epoch 00034: val_loss did not improve from 0.15959\n",
      "Epoch 35/100\n",
      "292/292 [==============================] - 136s 465ms/step - loss: 0.2392 - acc: 0.9075 - val_loss: 0.2958 - val_acc: 0.8634\n",
      "\n",
      "Epoch 00035: val_loss did not improve from 0.15959\n",
      "Epoch 36/100\n",
      "292/292 [==============================] - 136s 465ms/step - loss: 0.2604 - acc: 0.9020 - val_loss: 0.2098 - val_acc: 0.9317\n",
      "\n",
      "Epoch 00036: ReduceLROnPlateau reducing learning rate to 2.499999936844688e-05.\n",
      "\n",
      "Epoch 00036: val_loss did not improve from 0.15959\n",
      "Epoch 37/100\n"
     ]
    },
    {
     "name": "stdout",
     "output_type": "stream",
     "text": [
      "292/292 [==============================] - 136s 465ms/step - loss: 0.1976 - acc: 0.9230 - val_loss: 0.1707 - val_acc: 0.9451\n",
      "\n",
      "Epoch 00037: val_loss did not improve from 0.15959\n",
      "Epoch 38/100\n",
      "292/292 [==============================] - 136s 465ms/step - loss: 0.1980 - acc: 0.9283 - val_loss: 0.1630 - val_acc: 0.9422\n",
      "\n",
      "Epoch 00038: val_loss did not improve from 0.15959\n",
      "Epoch 39/100\n",
      "292/292 [==============================] - 136s 466ms/step - loss: 0.2074 - acc: 0.9252 - val_loss: 0.1520 - val_acc: 0.9443\n",
      "\n",
      "Epoch 00039: val_loss improved from 0.15959 to 0.15196, saving model to ./weights/weights.best.hdf5\n",
      "Epoch 40/100\n",
      "292/292 [==============================] - 136s 465ms/step - loss: 0.2204 - acc: 0.9258 - val_loss: 0.1841 - val_acc: 0.9382\n",
      "\n",
      "Epoch 00040: val_loss did not improve from 0.15196\n",
      "Epoch 41/100\n",
      "292/292 [==============================] - 136s 466ms/step - loss: 0.2054 - acc: 0.9274 - val_loss: 0.1803 - val_acc: 0.9402\n",
      "\n",
      "Epoch 00041: val_loss did not improve from 0.15196\n",
      "Epoch 42/100\n",
      "292/292 [==============================] - 136s 465ms/step - loss: 0.2168 - acc: 0.9266 - val_loss: 0.2489 - val_acc: 0.9314\n",
      "\n",
      "Epoch 00042: val_loss did not improve from 0.15196\n",
      "Epoch 43/100\n",
      "292/292 [==============================] - 136s 466ms/step - loss: 0.2412 - acc: 0.9191 - val_loss: 0.2350 - val_acc: 0.9131\n",
      "\n",
      "Epoch 00043: ReduceLROnPlateau reducing learning rate to 1.249999968422344e-05.\n",
      "\n",
      "Epoch 00043: val_loss did not improve from 0.15196\n",
      "Epoch 44/100\n",
      "292/292 [==============================] - 136s 466ms/step - loss: 0.2122 - acc: 0.9297 - val_loss: 0.2183 - val_acc: 0.9411\n",
      "\n",
      "Epoch 00044: val_loss did not improve from 0.15196\n",
      "Epoch 45/100\n",
      "292/292 [==============================] - 136s 466ms/step - loss: 0.2303 - acc: 0.9338 - val_loss: 0.1756 - val_acc: 0.9475\n",
      "\n",
      "Epoch 00045: val_loss did not improve from 0.15196\n",
      "Epoch 46/100\n",
      "292/292 [==============================] - 136s 466ms/step - loss: 0.2678 - acc: 0.9313 - val_loss: 0.2091 - val_acc: 0.9410\n",
      "\n",
      "Epoch 00046: val_loss did not improve from 0.15196\n",
      "Epoch 47/100\n",
      "292/292 [==============================] - 136s 466ms/step - loss: 0.2406 - acc: 0.9347 - val_loss: 0.1529 - val_acc: 0.9472\n",
      "\n",
      "Epoch 00047: ReduceLROnPlateau reducing learning rate to 6.24999984211172e-06.\n",
      "\n",
      "Epoch 00047: val_loss did not improve from 0.15196\n",
      "Epoch 00047: early stopping\n"
     ]
    }
   ],
   "source": [
    "epochs = 100\n",
    "batch_size = 64\n",
    "\n",
    "learning_rate_reduction = ReduceLROnPlateau(monitor='val_loss', \n",
    "                                            patience=4, \n",
    "                                            verbose=1, \n",
    "                                            factor=0.5, \n",
    "                                            min_lr=5e-8)\n",
    "\n",
    "early_stopping = EarlyStopping(monitor='val_loss', patience=8, min_delta=0.0002, verbose=1, mode='auto')     \n",
    "filepath=\"./weights/weights.best.hdf5\"\n",
    "if not os.path.exists('./weights'):\n",
    "        os.mkdir('./weights')\n",
    "checkpoint = ModelCheckpoint(filepath, monitor='val_loss', verbose=1, save_best_only=True, mode='auto')\n",
    "       \n",
    "        \n",
    "def run_catdog():\n",
    "    \n",
    "    model_his = model.fit_generator(datagen.flow(X_train,Y_train, batch_size=batch_size),\n",
    "                              epochs = epochs, validation_data = (X_val,Y_val), shuffle=True, \n",
    "                              verbose = 1, steps_per_epoch=X_train.shape[0] // batch_size\n",
    "                              , callbacks=[learning_rate_reduction, early_stopping, checkpoint])\n",
    "    '''\n",
    "    model_his = model.fit(X_train, np.array(Y_train), batch_size=batch_size, epochs=epochs,\n",
    "              validation_split=0.2, verbose=1, shuffle=True, callbacks=[learning_rate_reduction, early_stopping, checkpoint])\n",
    "\n",
    "    '''\n",
    "    return model_his\n",
    "\n",
    "history = run_catdog()"
   ]
  },
  {
   "cell_type": "code",
   "execution_count": 15,
   "metadata": {},
   "outputs": [
    {
     "data": {
      "image/png": "[encoded data removed]",
      "text/plain": [
       "<Figure size 432x288 with 2 Axes>"
      ]
     },
     "metadata": {
      "needs_background": "light"
     },
     "output_type": "display_data"
    }
   ],
   "source": [
    "# Plot the loss and accuracy curves for training and validation \n",
    "fig, ax = plt.subplots(2,1)\n",
    "ax[0].plot(history.history['loss'], color='b', label=\"Training loss\")\n",
    "ax[0].plot(history.history['val_loss'], color='r', label=\"validation loss\",axes =ax[0])\n",
    "legend = ax[0].legend(loc='best', shadow=True)\n",
    "\n",
    "ax[1].plot(history.history['acc'], color='b', label=\"Training accuracy\")\n",
    "ax[1].plot(history.history['val_acc'], color='r',label=\"Validation accuracy\")\n",
    "legend = ax[1].legend(loc='best', shadow=True)"
   ]
  },
  {
   "cell_type": "code",
   "execution_count": 16,
   "metadata": {},
   "outputs": [
    {
     "name": "stderr",
     "output_type": "stream",
     "text": [
      "100%|██████████| 12500/12500 [00:12<00:00, 1007.66it/s]\n"
     ]
    }
   ],
   "source": [
    "# if you need to create the data:\n",
    "test_data = process_test_data()\n",
    "# if you already have some saved:\n",
    "#test_data = np.load('test_data.npy')"
   ]
  },
  {
   "cell_type": "code",
   "execution_count": null,
   "metadata": {},
   "outputs": [],
   "source": [
    "#model.load_weights(\"./weights/weights.best.hdf5\")\n",
    "\n",
    "fig=plt.figure()\n",
    "\n",
    "for num,data in enumerate(test_data[:12]):\n",
    "    # cat: [1,0]\n",
    "    # dog: [0,1]\n",
    "    \n",
    "    img_num = data[1]\n",
    "    img_data = data[0]\n",
    "    \n",
    "    y = fig.add_subplot(3,4,num+1)\n",
    "    orig = img_data\n",
    "    data = img_data.reshape(-1, IMG_SIZE,IMG_SIZE,1)\n",
    "    #model_out = model.predict([data])[0]\n",
    "    model_out = model.predict([data])[0]\n",
    "    \n",
    "    if np.argmax(model_out) == 1: str_label='Dog'\n",
    "    else: str_label='Cat'\n",
    "        \n",
    "    y.imshow(orig,cmap='gray')\n",
    "    plt.title(str_label)\n",
    "    y.axes.get_xaxis().set_visible(False)\n",
    "    y.axes.get_yaxis().set_visible(False)\n",
    "plt.show()"
   ]
  },
  {
   "cell_type": "code",
   "execution_count": 17,
   "metadata": {},
   "outputs": [
    {
     "name": "stderr",
     "output_type": "stream",
     "text": [
      "100%|██████████| 12500/12500 [01:17<00:00, 162.17it/s]\n"
     ]
    }
   ],
   "source": [
    "with open('submission_file_1.csv','w') as f:\n",
    "    f.write('id,label\\n')\n",
    "            \n",
    "with open('submission_file_1.csv','a') as f:\n",
    "    for data in tqdm(test_data):\n",
    "        img_num = data[1]\n",
    "        img_data = data[0]\n",
    "        orig = img_data\n",
    "        data = img_data.reshape(-1, IMG_SIZE,IMG_SIZE,1)\n",
    "        model_out = model.predict([data])[0]\n",
    "        f.write('{},{}\\n'.format(img_num,model_out[1]))"
   ]
  },
  {
   "cell_type": "code",
   "execution_count": null,
   "metadata": {},
   "outputs": [],
   "source": [
    "data = test_data[0]\n",
    "img_num = data[1]\n",
    "img_data = data[0]\n",
    "orig = img_data\n",
    "data = img_data.reshape(-1, IMG_SIZE,IMG_SIZE,1)\n",
    "model_out = model.predict([data])[0]"
   ]
  },
  {
   "cell_type": "code",
   "execution_count": null,
   "metadata": {},
   "outputs": [],
   "source": [
    "model_out[0]"
   ]
  }
 ],
 "metadata": {
  "_change_revision": 3270,
  "_is_fork": false,
  "kernelspec": {
   "display_name": "Python 3",
   "language": "python",
   "name": "python3"
  },
  "language_info": {
   "codemirror_mode": {
    "name": "ipython",
    "version": 3
   },
   "file_extension": ".py",
   "mimetype": "text/x-python",
   "name": "python",
   "nbconvert_exporter": "python",
   "pygments_lexer": "ipython3",
   "version": "3.6.4"
  }
 },
 "nbformat": 4,
 "nbformat_minor": 1
}
